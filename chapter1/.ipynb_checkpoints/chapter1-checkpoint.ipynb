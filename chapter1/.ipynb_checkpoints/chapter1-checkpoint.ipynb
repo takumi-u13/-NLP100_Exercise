{
 "cells": [
  {
   "cell_type": "markdown",
   "metadata": {},
   "source": [
    "## 00. 文字列の逆順"
   ]
  },
  {
   "cell_type": "markdown",
   "metadata": {},
   "source": [
    "文字列”stressed”の文字を逆に（末尾から先頭に向かって）並べた文字列を得よ．"
   ]
  },
  {
   "cell_type": "code",
   "execution_count": 4,
   "metadata": {},
   "outputs": [
    {
     "name": "stdout",
     "output_type": "stream",
     "text": [
      "desserts\n"
     ]
    }
   ],
   "source": [
    "text = 'stressed'\n",
    "reversed_text = text[::-1]\n",
    "print(reversed_text)"
   ]
  },
  {
   "cell_type": "markdown",
   "metadata": {},
   "source": [
    "## 01. 「パタトクカシーー」"
   ]
  },
  {
   "cell_type": "markdown",
   "metadata": {},
   "source": [
    "「パタトクカシーー」という文字列の1,3,5,7文字目を取り出して連結した文字列を得よ．"
   ]
  },
  {
   "cell_type": "code",
   "execution_count": 5,
   "metadata": {},
   "outputs": [
    {
     "name": "stdout",
     "output_type": "stream",
     "text": [
      "パトカー\n"
     ]
    }
   ],
   "source": [
    "text = 'パタトクカシーー'\n",
    "sliced_text = text[0] + text[2] + text[4] + text[6]\n",
    "print(sliced_text)"
   ]
  },
  {
   "cell_type": "markdown",
   "metadata": {},
   "source": [
    "## 02. 「パトカー」＋「タクシー」＝「パタトクカシーー」"
   ]
  },
  {
   "cell_type": "markdown",
   "metadata": {},
   "source": [
    "「パトカー」＋「タクシー」の文字を先頭から交互に連結して文字列「パタトクカシーー」を得よ"
   ]
  },
  {
   "cell_type": "code",
   "execution_count": 7,
   "metadata": {},
   "outputs": [
    {
     "name": "stdout",
     "output_type": "stream",
     "text": [
      "パタトクカシーー\n"
     ]
    }
   ],
   "source": [
    "police = 'パトカー'\n",
    "taxi = 'タクシー'\n",
    "ans_str = ''\n",
    "for i in range(len(police)):\n",
    "    ans_str += police[i] + taxi[i]\n",
    "print(ans_str)"
   ]
  },
  {
   "cell_type": "markdown",
   "metadata": {},
   "source": [
    "## 03. 円周率"
   ]
  },
  {
   "cell_type": "markdown",
   "metadata": {},
   "source": [
    "“Now I need a drink, alcoholic of course, after the heavy lectures involving quantum mechanics.”という文を単語に分解し，各単語の（アルファベットの）文字数を先頭から出現順に並べたリストを作成せよ．"
   ]
  },
  {
   "cell_type": "code",
   "execution_count": 32,
   "metadata": {},
   "outputs": [
    {
     "name": "stdout",
     "output_type": "stream",
     "text": [
      "[2, 2, 2, 1, 1, 1, 1, 1, 1, 1, 1]\n"
     ]
    }
   ],
   "source": [
    "from collections import Counter\n",
    "text = \"Now I need a drink, alcoholic of course,\"\\\n",
    "        \"after the heavy lectures involving quantum mechanics.\"\n",
    "text_list = text.split(' ')\n",
    "text_counter = []\n",
    "for word in text_list:\n",
    "    text_counter.append(word[0].lower())\n",
    "c = Counter(text_counter)\n",
    "print(list(c.values()))"
   ]
  },
  {
   "cell_type": "markdown",
   "metadata": {},
   "source": [
    "## 04. 元素記号"
   ]
  },
  {
   "cell_type": "markdown",
   "metadata": {},
   "source": [
    "“Hi He Lied Because Boron Could Not Oxidize Fluorine. New Nations Might Also Sign Peace Security Clause. Arthur King Can.”という文を単語に分解し，1, 5, 6, 7, 8, 9, 15, 16, 19番目の単語は先頭の1文字，それ以外の単語は先頭の2文字を取り出し，取り出した文字列から単語の位置（先頭から何番目の単語か）への連想配列（辞書型もしくはマップ型）を作成せよ．"
   ]
  },
  {
   "cell_type": "code",
   "execution_count": 38,
   "metadata": {},
   "outputs": [
    {
     "name": "stdout",
     "output_type": "stream",
     "text": [
      "{'H': 1, 'He': 2, 'Li': 3, 'Be': 4, 'B': 5, 'C': 6, 'N': 7, 'O': 8, 'F': 9, 'Ne': 10, 'Na': 11, 'Mi': 12, 'Al': 13, 'Si': 14, 'P': 15, 'S': 16, 'Cl': 17, 'Ar': 18, 'K': 19, 'Ca': 20}\n"
     ]
    }
   ],
   "source": [
    "elements_text = \"Hi He Lied Because Boron Could Not Oxidize Fluorine. New Nations Might Also Sign Peace Security Clause. Arthur King Can.\"\n",
    "elements_list = elements_text.split(' ')\n",
    "elements = {}\n",
    "for idx, element in enumerate(elements_list):\n",
    "    if idx+1 in [1, 5, 6, 7, 8, 9, 15, 16, 19]:\n",
    "        elements[element[0]] = idx + 1\n",
    "    else:\n",
    "        elements[element[:2]] = idx + 1\n",
    "\n",
    "print(elements)"
   ]
  },
  {
   "cell_type": "markdown",
   "metadata": {},
   "source": [
    "## 05. n-gram"
   ]
  },
  {
   "cell_type": "markdown",
   "metadata": {},
   "source": [
    "与えられたシーケンス（文字列やリストなど）からn-gramを作る関数を作成せよ．この関数を用い，”I am an NLPer”という文から単語bi-gram，文字bi-gramを得よ．"
   ]
  },
  {
   "cell_type": "markdown",
   "metadata": {},
   "source": [
    "任意の文字列や文書を連続したn個の文字で分割するテキスト分割方法．特に，nが1の場合をユニグラム（uni-gram），2の場合をバイグラム（bi-gram），3の場合をトライグラム（tri-gram）と呼ぶ"
   ]
  },
  {
   "cell_type": "code",
   "execution_count": 51,
   "metadata": {},
   "outputs": [
    {
     "name": "stdout",
     "output_type": "stream",
     "text": [
      "['I ', ' a', 'am', 'm ', ' a', 'an', 'n ', ' N', 'NL', 'LP', 'Pe', 'er']\n",
      "[['I', 'am'], ['am', 'an'], ['an', 'NLPer']]\n"
     ]
    }
   ],
   "source": [
    "def n_gram_character(text, n):\n",
    "    return [text[i:i+n] for i in range(len(text) - n + 1)] \n",
    "\n",
    "def n_gram_word(text, n):\n",
    "    words = text.split(' ')\n",
    "    return [words[i:i+n] for i in range(len(words) - n + 1)]\n",
    "    \n",
    "text = \"I am an NLPer\"\n",
    "print(n_gram_character(text, 2))\n",
    "print(n_gram_word(text, 2))"
   ]
  },
  {
   "cell_type": "markdown",
   "metadata": {},
   "source": [
    "## 06. 集合"
   ]
  },
  {
   "cell_type": "markdown",
   "metadata": {},
   "source": [
    "“paraparaparadise”と”paragraph”に含まれる文字bi-gramの集合を，それぞれ, XとYとして求め，XとYの和集合，積集合，差集合を求めよ．さらに，’se’というbi-gramがXおよびYに含まれるかどうかを調べよ．"
   ]
  },
  {
   "cell_type": "code",
   "execution_count": 54,
   "metadata": {},
   "outputs": [
    {
     "name": "stdout",
     "output_type": "stream",
     "text": [
      "{'ad', 'ra', 'gr', 'is', 'di', 'se', 'ap', 'pa', 'ag', 'ar', 'ph'}\n",
      "{'ra', 'ar', 'ap', 'pa'}\n",
      "{'ad', 'di', 'se', 'is'}\n"
     ]
    }
   ],
   "source": [
    "words1 = 'paraparaparadise'\n",
    "words2 = 'paragraph'\n",
    "words1_bi_gram = set(n_gram_character(words1, 2))\n",
    "words2_bi_gram = set(n_gram_character(words2, 2))\n",
    "\n",
    "union_set = words1_bi_gram | words2_bi_gram\n",
    "intersection_set = words1_bi_gram & words2_bi_gram\n",
    "difference_set = words1_bi_gram - words2_bi_gram\n",
    "\n",
    "#和集合\n",
    "print(union_set)\n",
    "#積集合\n",
    "print(intersection_set)\n",
    "#差集合\n",
    "print(difference_set)"
   ]
  },
  {
   "cell_type": "markdown",
   "metadata": {},
   "source": [
    "## 07. テンプレートによる文生成"
   ]
  },
  {
   "cell_type": "markdown",
   "metadata": {},
   "source": [
    "引数x, y, zを受け取り「x時のyはz」という文字列を返す関数を実装せよ．さらに，x=12, y=”気温”, z=22.4として，実行結果を確認せよ．"
   ]
  },
  {
   "cell_type": "code",
   "execution_count": 56,
   "metadata": {},
   "outputs": [
    {
     "name": "stdout",
     "output_type": "stream",
     "text": [
      "12時の気温は22.4\n"
     ]
    }
   ],
   "source": [
    "def sentence_generation(x, y, z):\n",
    "    sentence = \"{0}時の{1}は{2}\"\n",
    "    return sentence.format(x, y, z)\n",
    "print(sentence_generation('12', '気温', '22.4'))"
   ]
  },
  {
   "cell_type": "markdown",
   "metadata": {},
   "source": [
    "## 08. 暗号文"
   ]
  },
  {
   "cell_type": "markdown",
   "metadata": {},
   "source": [
    "与えられた文字列の各文字を，以下の仕様で変換する関数cipherを実装せよ．\n",
    "\n",
    "・英小文字ならば(219 - 文字コード)の文字に置換\\\n",
    "・その他の文字はそのまま出力\\\n",
    "この関数を用い，英語のメッセージを暗号化・復号化せよ．"
   ]
  },
  {
   "cell_type": "code",
   "execution_count": 62,
   "metadata": {},
   "outputs": [
    {
     "name": "stdout",
     "output_type": "stream",
     "text": [
      "Tsrh rh z Pvm\n",
      "This is a Pen\n"
     ]
    }
   ],
   "source": [
    "def cipher(sentense):\n",
    "    sentense_list = []\n",
    "    if code == 'encode':\n",
    "        if sentense[i].islower():\n",
    "            sentense_list.insert(i, chr(219-ord(sentense[i])))\n",
    "        else:\n",
    "            sentense_list.insert(i, sentense[i])\n",
    "\n",
    "    return ''.join(sentense_list)\n",
    "\n",
    "text = 'This is a Pen'\n",
    "encoded_text = cipher(text)\n",
    "print(cipher(text))\n",
    "print(cipher(encoded_text))"
   ]
  },
  {
   "cell_type": "markdown",
   "metadata": {},
   "source": [
    "## 09. Typoglycemia"
   ]
  },
  {
   "cell_type": "markdown",
   "metadata": {},
   "source": [
    "スペースで区切られた単語列に対して，各単語の先頭と末尾の文字は残し，それ以外の文字の順序をランダムに並び替えるプログラムを作成せよ．ただし，長さが４以下の単語は並び替えないこととする．適当な英語の文（例えば”I couldn’t believe that I could actually understand what I was reading : the phenomenal power of the human mind .”）を与え，その実行結果を確認せよ．"
   ]
  },
  {
   "cell_type": "code",
   "execution_count": 74,
   "metadata": {},
   "outputs": [
    {
     "name": "stdout",
     "output_type": "stream",
     "text": [
      "I cuondl’t bvlieee that I could acaultly usedtnnrad what I was raiendg : the peonnmahel poewr of the hamun mind .\n"
     ]
    }
   ],
   "source": [
    "import random\n",
    "\n",
    "def shuffle_char(sentense):\n",
    "    word_list = sentense.split(' ')\n",
    "    shuffled_list = []\n",
    "    for idx, word in enumerate(word_list):\n",
    "        if len(word) <= 4:\n",
    "            shuffled_list.insert(idx, word)\n",
    "        else:\n",
    "            l = list(word)\n",
    "            beginning = l.pop(0)\n",
    "            end = l.pop(-1)\n",
    "            random.shuffle(l)\n",
    "            word = (beginning[0] + ''.join(l) + end[0])\n",
    "            shuffled_list.insert(idx, word)\n",
    "    return ' '.join(shuffled_list)\n",
    "\n",
    "sentense = 'I couldn’t believe that I could actually understand what I was reading : the phenomenal power of the human mind .'\n",
    "print(shuffle_char(sentense))"
   ]
  },
  {
   "cell_type": "code",
   "execution_count": null,
   "metadata": {},
   "outputs": [],
   "source": []
  }
 ],
 "metadata": {
  "kernelspec": {
   "display_name": "Python 3",
   "language": "python",
   "name": "python3"
  },
  "language_info": {
   "codemirror_mode": {
    "name": "ipython",
    "version": 3
   },
   "file_extension": ".py",
   "mimetype": "text/x-python",
   "name": "python",
   "nbconvert_exporter": "python",
   "pygments_lexer": "ipython3",
   "version": "3.7.6"
  }
 },
 "nbformat": 4,
 "nbformat_minor": 4
}
